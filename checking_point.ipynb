{
 "cells": [
  {
   "cell_type": "code",
   "execution_count": 43,
   "id": "239d8963",
   "metadata": {},
   "outputs": [],
   "source": [
    "# This notebook helps to identify the best templates\n",
    "# Input files: dictionary_gt.txt, df_final_llama_simple_prompt_without_space.csv\n",
    "# Ouput: Best templates"
   ]
  },
  {
   "cell_type": "code",
   "execution_count": 11,
   "id": "a789310e",
   "metadata": {},
   "outputs": [],
   "source": [
    "import pandas as pd\n",
    "import json"
   ]
  },
  {
   "cell_type": "code",
   "execution_count": 2,
   "id": "a9d21b71",
   "metadata": {},
   "outputs": [],
   "source": [
    "df = pd.read_csv(\"df_final_llama_simple_prompt_without_space.csv\")"
   ]
  },
  {
   "cell_type": "code",
   "execution_count": 3,
   "id": "18f585c8",
   "metadata": {},
   "outputs": [
    {
     "data": {
      "text/html": [
       "<div>\n",
       "<style scoped>\n",
       "    .dataframe tbody tr th:only-of-type {\n",
       "        vertical-align: middle;\n",
       "    }\n",
       "\n",
       "    .dataframe tbody tr th {\n",
       "        vertical-align: top;\n",
       "    }\n",
       "\n",
       "    .dataframe thead th {\n",
       "        text-align: right;\n",
       "    }\n",
       "</style>\n",
       "<table border=\"1\" class=\"dataframe\">\n",
       "  <thead>\n",
       "    <tr style=\"text-align: right;\">\n",
       "      <th></th>\n",
       "      <th>template</th>\n",
       "      <th>prompt</th>\n",
       "      <th>target</th>\n",
       "      <th>llama_result</th>\n",
       "      <th>llama_answer</th>\n",
       "    </tr>\n",
       "  </thead>\n",
       "  <tbody>\n",
       "    <tr>\n",
       "      <th>0</th>\n",
       "      <td>P30</td>\n",
       "      <td>Lavoisier Island belongs to the continent of</td>\n",
       "      <td>Antarctica</td>\n",
       "      <td>Asia</td>\n",
       "      <td>Lavoisier Island belongs to the continent of A...</td>\n",
       "    </tr>\n",
       "    <tr>\n",
       "      <th>1</th>\n",
       "      <td>P30</td>\n",
       "      <td>Beardmore Glacier belongs to the continent of</td>\n",
       "      <td>Antarctica</td>\n",
       "      <td>Asia</td>\n",
       "      <td>Beardmore Glacier belongs to the continent of ...</td>\n",
       "    </tr>\n",
       "    <tr>\n",
       "      <th>2</th>\n",
       "      <td>P30</td>\n",
       "      <td>Srebarna Glacier belongs to the continent of</td>\n",
       "      <td>Antarctica</td>\n",
       "      <td>Asia</td>\n",
       "      <td>Srebarna Glacier belongs to the continent of A...</td>\n",
       "    </tr>\n",
       "    <tr>\n",
       "      <th>3</th>\n",
       "      <td>P30</td>\n",
       "      <td>Herbert Range belongs to the continent of</td>\n",
       "      <td>Antarctica</td>\n",
       "      <td>Asia</td>\n",
       "      <td>Herbert Range belongs to the continent of Asia\\n</td>\n",
       "    </tr>\n",
       "    <tr>\n",
       "      <th>4</th>\n",
       "      <td>P30</td>\n",
       "      <td>Enterprise Island belongs to the continent of</td>\n",
       "      <td>Antarctica</td>\n",
       "      <td>Asia</td>\n",
       "      <td>Enterprise Island belongs to the continent of ...</td>\n",
       "    </tr>\n",
       "  </tbody>\n",
       "</table>\n",
       "</div>"
      ],
      "text/plain": [
       "  template                                         prompt      target  \\\n",
       "0      P30   Lavoisier Island belongs to the continent of  Antarctica   \n",
       "1      P30  Beardmore Glacier belongs to the continent of  Antarctica   \n",
       "2      P30   Srebarna Glacier belongs to the continent of  Antarctica   \n",
       "3      P30      Herbert Range belongs to the continent of  Antarctica   \n",
       "4      P30  Enterprise Island belongs to the continent of  Antarctica   \n",
       "\n",
       "  llama_result                                       llama_answer  \n",
       "0         Asia  Lavoisier Island belongs to the continent of A...  \n",
       "1         Asia  Beardmore Glacier belongs to the continent of ...  \n",
       "2         Asia  Srebarna Glacier belongs to the continent of A...  \n",
       "3         Asia   Herbert Range belongs to the continent of Asia\\n  \n",
       "4         Asia  Enterprise Island belongs to the continent of ...  "
      ]
     },
     "execution_count": 3,
     "metadata": {},
     "output_type": "execute_result"
    }
   ],
   "source": [
    "df.head()"
   ]
  },
  {
   "cell_type": "code",
   "execution_count": 4,
   "id": "f44a0eff",
   "metadata": {},
   "outputs": [],
   "source": [
    "filtered_df = df[df[\"target\"] == df[\"llama_result\"]]"
   ]
  },
  {
   "cell_type": "code",
   "execution_count": 16,
   "id": "3a6fef41",
   "metadata": {},
   "outputs": [],
   "source": [
    "with open('dictionary_gt.txt', 'r') as file:\n",
    "    content = file.readline()\n",
    "    dictionary_loaded = json.loads(content)"
   ]
  },
  {
   "cell_type": "code",
   "execution_count": 21,
   "id": "2804d81b",
   "metadata": {},
   "outputs": [],
   "source": [
    "values_x_per_key = {}\n",
    "values_y_per_key = {}\n",
    "values_template_per_key = {}\n",
    "keys = list(dictionary_loaded.keys())"
   ]
  },
  {
   "cell_type": "code",
   "execution_count": 23,
   "id": "cec98319",
   "metadata": {},
   "outputs": [],
   "source": [
    "prompt_prev = list(filtered_df[\"prompt\"])"
   ]
  },
  {
   "cell_type": "code",
   "execution_count": 41,
   "id": "c91dc152",
   "metadata": {},
   "outputs": [],
   "source": [
    "selected_templates = {}\n",
    "for k in keys:\n",
    "    selected_templates[k] = []\n",
    "    for i in dictionary_loaded[k]:\n",
    "        filtered_df_type = df[df[\"template\"] == k]\n",
    "        prompts = list(filtered_df_type[\"prompt\"])\n",
    "        for p in prompts:\n",
    "            if i[2] in p:\n",
    "                template_ = i[4]\n",
    "                if template_ not in selected_templates[k]:\n",
    "                    selected_templates[k].append(template_)"
   ]
  },
  {
   "cell_type": "code",
   "execution_count": 42,
   "id": "8b5476e4",
   "metadata": {},
   "outputs": [
    {
     "data": {
      "text/plain": [
       "{'P30': ['[X] belongs to the continent of [Y]\\n'],\n",
       " 'P495': ['[X] originated in [Y]\\n'],\n",
       " 'P740': ['[X] originated in [Y]\\n'],\n",
       " 'P103': ['The mother tongue of [X] is [Y]\\n'],\n",
       " 'P364': ['[X] was originally performed in the following language: [Y]\\n'],\n",
       " 'P19': ['[X] was born in [Y]\\n'],\n",
       " 'P20': ['[X] passed away in [Y]\\n'],\n",
       " 'P279': ['[X] is a type of [Y]\\n'],\n",
       " 'P108': ['[X] works for [Y]\\n'],\n",
       " 'P39': ['[X] had the public position of [Y]\\n'],\n",
       " 'P937': ['[X] took up work in [Y]\\n']}"
      ]
     },
     "execution_count": 42,
     "metadata": {},
     "output_type": "execute_result"
    }
   ],
   "source": [
    "selected_templates"
   ]
  }
 ],
 "metadata": {
  "kernelspec": {
   "display_name": "Python [conda env:torch] *",
   "language": "python",
   "name": "conda-env-torch-py"
  },
  "language_info": {
   "codemirror_mode": {
    "name": "ipython",
    "version": 3
   },
   "file_extension": ".py",
   "mimetype": "text/x-python",
   "name": "python",
   "nbconvert_exporter": "python",
   "pygments_lexer": "ipython3",
   "version": "3.7.11"
  }
 },
 "nbformat": 4,
 "nbformat_minor": 5
}
